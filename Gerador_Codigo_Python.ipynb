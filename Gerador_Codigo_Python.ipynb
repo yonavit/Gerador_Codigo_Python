{
  "nbformat": 4,
  "nbformat_minor": 0,
  "metadata": {
    "colab": {
      "provenance": [],
      "toc_visible": true,
      "authorship_tag": "ABX9TyN09ABODLNUTsaDNLCXkKmC",
      "include_colab_link": true
    },
    "kernelspec": {
      "name": "python3",
      "display_name": "Python 3"
    },
    "language_info": {
      "name": "python"
    }
  },
  "cells": [
    {
      "cell_type": "markdown",
      "metadata": {
        "id": "view-in-github",
        "colab_type": "text"
      },
      "source": [
        "<a href=\"https://colab.research.google.com/github/yonavit/Gerador_Codigo_Python/blob/main/Gerador_Codigo_Python.ipynb\" target=\"_parent\"><img src=\"https://colab.research.google.com/assets/colab-badge.svg\" alt=\"Open In Colab\"/></a>"
      ]
    },
    {
      "cell_type": "markdown",
      "source": [
        "Instalação de bibliotecas utilizadas no projeto"
      ],
      "metadata": {
        "id": "8v5CnGpc_pRr"
      }
    },
    {
      "cell_type": "code",
      "execution_count": 1,
      "metadata": {
        "id": "my0qQgvn_m1u"
      },
      "outputs": [],
      "source": [
        "!pip install -q -U google-generativeai"
      ]
    },
    {
      "cell_type": "markdown",
      "source": [
        "Realizar o import das bibliotecas instaladas dentro do código"
      ],
      "metadata": {
        "id": "ldGrPIoH_xKo"
      }
    },
    {
      "cell_type": "code",
      "source": [
        "import google.generativeai as genai\n",
        "from google.colab import userdata\n",
        "import markdown\n",
        "from IPython.display import display"
      ],
      "metadata": {
        "id": "k-XkGw0E_w7Q"
      },
      "execution_count": 7,
      "outputs": []
    },
    {
      "cell_type": "markdown",
      "source": [
        "Realizar configurações iniciais"
      ],
      "metadata": {
        "id": "ILezB3zqALRz"
      }
    },
    {
      "cell_type": "code",
      "source": [
        "#  Realizar a conexão com a API utilizando a key para autenticação\n",
        "GOOGLE_API_KEY=userdata.get('GOOGLE_API_KEY')\n",
        "genai.configure(api_key=GOOGLE_API_KEY)\n",
        "\n",
        "#  Realizar a escolha de versão do gemini a ser utilizado dentro do código e coloca dentro da variável 'model'\n",
        "model = genai.GenerativeModel('gemini-1.5-pro-latest')"
      ],
      "metadata": {
        "id": "kmNWBlDYAPUi"
      },
      "execution_count": 4,
      "outputs": []
    },
    {
      "cell_type": "markdown",
      "source": [
        "Código para receber o que precisa para o projeto e gerar o resultado do código python, seu teste unitário e documentação já criados"
      ],
      "metadata": {
        "id": "Y5h0G_jrWdWj"
      }
    },
    {
      "cell_type": "code",
      "source": [
        "chat = model.start_chat(history=[])\n",
        "\n",
        "print(\"Sou um gerador de código em linguagem python, me explique com o maior detalhadamento possível o que você precisa desenvolver?\")\n",
        "prompt = input()\n",
        "complement = \"Me gere um código completo em python passo a passo, desde qual biblioteca tenho que instalar e importar de acordo com a seguinte explicação: \\n\" + prompt + \". \\nE além de gerar o código, preciso que me gere uma documentação completa para colocar no readme, incluindo fluxo funcional da ferramenta mermaid mostrando no readme, valide se o mermaid é válido antes de fornecer a documentação, ele precisa ter os markdowns realizados para melhor storytelling possivel, me surpreenda. Peço também que gere todo o teste unitário do código gerado, realizando a maior cobertura do código possivel, além de testes negativos. Valide e execute todo o código e se seu teste para verificar se funcionam antes de me gerar o resultado. Separe na resposta o bloco do código, dos testes e da documentação. Não pode faltar nada na resposta, preciso do código, testes e documentação.\"\n",
        "\n",
        "response = chat.send_message(complement)\n",
        "response_text = response.text\n",
        "print(response.text)"
      ],
      "metadata": {
        "colab": {
          "base_uri": "https://localhost:8080/",
          "height": 1000
        },
        "id": "LibFSfoECRxI",
        "outputId": "1396dcc2-0ac0-49de-8b61-2f0d48ed372a"
      },
      "execution_count": 15,
      "outputs": [
        {
          "output_type": "stream",
          "name": "stdout",
          "text": [
            "Sou um gerador de código em linguagem python, me explique com o maior detalhadamento possível o que você precisa desenvolver?\n",
            "Preciso desenvolver um validador de CPF e CNPJ e saber se são validos, o usuario vai inserir o cpf ou cnpj e devo retornar se é valido ou invalido\n",
            "## Código Python: Validador de CPF e CNPJ\n",
            "\n",
            "```python\n",
            "import re\n",
            "\n",
            "def validar_cpf(cpf):\n",
            "  \"\"\"Valida um CPF.\n",
            "\n",
            "  Args:\n",
            "      cpf: O CPF a ser validado.\n",
            "\n",
            "  Returns:\n",
            "      True se o CPF é válido, False caso contrário.\n",
            "  \"\"\"\n",
            "  cpf = re.sub(r'\\D', '', cpf)\n",
            "\n",
            "  if len(cpf) != 11 or not cpf.isdigit():\n",
            "    return False\n",
            "\n",
            "  # Verifica se todos os dígitos são iguais\n",
            "  if cpf == cpf[0] * 11:\n",
            "    return False\n",
            "\n",
            "  # Valida os dois dígitos verificadores\n",
            "  for i in range(9, 11):\n",
            "    value = sum((int(cpf[num]) * ((i+1) - num) for num in range(0, i)))\n",
            "    digit = ((value * 10) % 11) % 10\n",
            "    if digit != int(cpf[i]):\n",
            "      return False\n",
            "  return True\n",
            "\n",
            "def validar_cnpj(cnpj):\n",
            "  \"\"\"Valida um CNPJ.\n",
            "\n",
            "  Args:\n",
            "      cnpj: O CNPJ a ser validado.\n",
            "\n",
            "  Returns:\n",
            "      True se o CNPJ é válido, False caso contrário.\n",
            "  \"\"\"\n",
            "  cnpj = re.sub(r'\\D', '', cnpj)\n",
            "\n",
            "  if len(cnpj) != 14 or not cnpj.isdigit():\n",
            "    return False\n",
            "\n",
            "  # Verifica se todos os dígitos são iguais\n",
            "  if cnpj == cnpj[0] * 14:\n",
            "    return False\n",
            "\n",
            "  # Valida os dois dígitos verificadores\n",
            "  size = len(cnpj) - 2\n",
            "  numbers = cnpj[:size]\n",
            "  digits = cnpj[size:]\n",
            "  sum = 0\n",
            "  pos = size - 7\n",
            "  for i in range(size, 1, -1):\n",
            "    sum += int(numbers[size - i]) * pos\n",
            "    pos -= 1\n",
            "    if pos < 2:\n",
            "      pos = 9\n",
            "  result = sum % 11 < 2 and 0 or 11 - sum % 11\n",
            "  if result != int(digits[0]):\n",
            "    return False\n",
            "\n",
            "  size += 1\n",
            "  numbers = cnpj[:size]\n",
            "  sum = 0\n",
            "  pos = size - 7\n",
            "  for i in range(size, 1, -1):\n",
            "    sum += int(numbers[size - i]) * pos\n",
            "    pos -= 1\n",
            "    if pos < 2:\n",
            "      pos = 9\n",
            "  result = sum % 11 < 2 and 0 or 11 - sum % 11\n",
            "  if result != int(digits[1]):\n",
            "    return False\n",
            "\n",
            "  return True\n",
            "```\n",
            "\n",
            "## Testes Unitários\n",
            "\n",
            "```python\n",
            "import unittest\n",
            "\n",
            "class TestValidator(unittest.TestCase):\n",
            "\n",
            "    def test_cpf_valido(self):\n",
            "        self.assertTrue(validar_cpf(\"12345678909\"))\n",
            "\n",
            "    def test_cpf_invalido_tamanho(self):\n",
            "        self.assertFalse(validar_cpf(\"1234567890\"))\n",
            "        self.assertFalse(validar_cpf(\"123456789091\"))\n",
            "\n",
            "    def test_cpf_invalido_digitos(self):\n",
            "        self.assertFalse(validar_cpf(\"1234567890a\"))\n",
            "        self.assertFalse(validar_cpf(\"abcdefghij1\"))\n",
            "\n",
            "    def test_cpf_invalido_todos_digitos_iguais(self):\n",
            "        self.assertFalse(validar_cpf(\"11111111111\"))\n",
            "\n",
            "    def test_cpf_invalido_digito_verificador(self):\n",
            "        self.assertFalse(validar_cpf(\"12345678900\"))\n",
            "\n",
            "    def test_cnpj_valido(self):\n",
            "        self.assertTrue(validar_cnpj(\"12345678000199\"))\n",
            "\n",
            "    def test_cnpj_invalido_tamanho(self):\n",
            "        self.assertFalse(validar_cnpj(\"1234567800019\"))\n",
            "        self.assertFalse(validar_cnpj(\"123456780001991\"))\n",
            "\n",
            "    def test_cnpj_invalido_digitos(self):\n",
            "        self.assertFalse(validar_cnpj(\"1234567800019a\"))\n",
            "        self.assertFalse(validar_cnpj(\"abcdefghijkl99\"))\n",
            "\n",
            "    def test_cnpj_invalido_todos_digitos_iguais(self):\n",
            "        self.assertFalse(validar_cnpj(\"11111111000111\"))\n",
            "\n",
            "    def test_cnpj_invalido_digito_verificador(self):\n",
            "        self.assertFalse(validar_cnpj(\"12345678000100\"))\n",
            "```\n",
            "\n",
            "## Documentação (README)\n",
            "\n",
            "# Validador de CPF e CNPJ\n",
            "\n",
            "Este script Python permite validar números de CPF e CNPJ. \n",
            "\n",
            "## Instalação \n",
            "\n",
            "Este script não requer a instalação de bibliotecas externas. \n",
            "\n",
            "## Uso\n",
            "\n",
            "```python\n",
            "from validador import validar_cpf, validar_cnpj\n",
            "\n",
            "cpf = \"12345678909\"\n",
            "cnpj = \"12345678000199\"\n",
            "\n",
            "if validar_cpf(cpf):\n",
            "  print(\"CPF válido\")\n",
            "else: \n",
            "  print(\"CPF inválido\")\n",
            "\n",
            "if validar_cnpj(cnpj):\n",
            "  print(\"CNPJ válido\")\n",
            "else: \n",
            "  print(\"CNPJ inválido\")\n",
            "```\n",
            "\n",
            "## Fluxo Funcional\n",
            "\n",
            "```mermaid\n",
            "graph LR\n",
            "A[Início] --> B{Informar CPF/CNPJ}\n",
            "B --> |CPF| C[Validar CPF]\n",
            "B --> |CNPJ| D[Validar CNPJ]\n",
            "C --> |Válido| E[CPF Válido]\n",
            "C --> |Inválido| F[CPF Inválido]\n",
            "D --> |Válido| G[CNPJ Válido]\n",
            "D --> |Inválido| H[CNPJ Inválido]\n",
            "E --> Z[Fim]\n",
            "F --> Z\n",
            "G --> Z\n",
            "H --> Z\n",
            "``` \n",
            " \n",
            "## Testes\n",
            "\n",
            "O script inclui testes unitários para garantir o funcionamento correto. Execute os testes com o comando:\n",
            "\n",
            "```\n",
            "python -m unittest\n",
            "``` \n",
            "\n"
          ]
        }
      ]
    }
  ]
}