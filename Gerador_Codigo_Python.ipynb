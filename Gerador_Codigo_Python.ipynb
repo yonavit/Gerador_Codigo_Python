{
  "nbformat": 4,
  "nbformat_minor": 0,
  "metadata": {
    "colab": {
      "provenance": [],
      "toc_visible": true,
      "authorship_tag": "ABX9TyNa4XxRR1NXkMr1oGuCliuZ",
      "include_colab_link": true
    },
    "kernelspec": {
      "name": "python3",
      "display_name": "Python 3"
    },
    "language_info": {
      "name": "python"
    }
  },
  "cells": [
    {
      "cell_type": "markdown",
      "metadata": {
        "id": "view-in-github",
        "colab_type": "text"
      },
      "source": [
        "<a href=\"https://colab.research.google.com/github/yonavit/Gerador_Codigo_Python/blob/main/Gerador_Codigo_Python.ipynb\" target=\"_parent\"><img src=\"https://colab.research.google.com/assets/colab-badge.svg\" alt=\"Open In Colab\"/></a>"
      ]
    },
    {
      "cell_type": "markdown",
      "source": [
        "Instalação de bibliotecas utilizadas no projeto"
      ],
      "metadata": {
        "id": "8v5CnGpc_pRr"
      }
    },
    {
      "cell_type": "code",
      "execution_count": 1,
      "metadata": {
        "id": "my0qQgvn_m1u"
      },
      "outputs": [],
      "source": [
        "!pip install -q -U google-generativeai"
      ]
    },
    {
      "cell_type": "markdown",
      "source": [
        "Realizar o import das bibliotecas instaladas dentro do código"
      ],
      "metadata": {
        "id": "ldGrPIoH_xKo"
      }
    },
    {
      "cell_type": "code",
      "source": [
        "import google.generativeai as genai\n",
        "from google.colab import userdata\n",
        "import markdown\n",
        "from IPython.display import display"
      ],
      "metadata": {
        "id": "k-XkGw0E_w7Q"
      },
      "execution_count": 7,
      "outputs": []
    },
    {
      "cell_type": "markdown",
      "source": [
        "Realizar configurações iniciais"
      ],
      "metadata": {
        "id": "ILezB3zqALRz"
      }
    },
    {
      "cell_type": "code",
      "source": [
        "#  Realizar a conexão com a API utilizando a key para autenticação\n",
        "GOOGLE_API_KEY=userdata.get('GOOGLE_API_KEY')\n",
        "genai.configure(api_key=GOOGLE_API_KEY)\n",
        "\n",
        "#  Realizar a escolha de versão do gemini a ser utilizado dentro do código e coloca dentro da variável 'model'\n",
        "model = genai.GenerativeModel('gemini-1.5-pro-latest')"
      ],
      "metadata": {
        "id": "kmNWBlDYAPUi"
      },
      "execution_count": 4,
      "outputs": []
    },
    {
      "cell_type": "code",
      "source": [
        "chat = model.start_chat(history=[])\n",
        "\n",
        "print(\"Sou um gerador de código em linguagem python, me explique com o maior detalhadamento possível o que você precisa desenvolver?\")\n",
        "prompt = input()\n",
        "complement = \"Me gere um código completo em python passo a passo, desde qual biblioteca tenho que instalar e importar de acordo com a seguinte explicação: \\n\" + prompt + \". \\nE além de gerar o código, preciso que me gere uma documentação completa para colocar no readme, incluindo fluxo funcional da ferramenta mermaid mostrando no readme, valide se o mermaid é válido antes de fornecer a documentação, ele precisa ter os markdowns realizados para melhor storytelling possivel, me surpreenda. Peço também que gere todo o teste unitário do código gerado, realizando a maior cobertura do código possivel, além de testes negativos. Valide e execute todo o código e se seu teste para verificar se funcionam antes de me gerar o resultado. Separe na resposta o bloco do código, dos testes e da documentação. Não pode faltar nada na resposta, preciso do código, testes e documentação.\"\n",
        "\n",
        "response = chat.send_message(complement)\n",
        "response_text = response.text\n",
        "print(response.text)"
      ],
      "metadata": {
        "colab": {
          "base_uri": "https://localhost:8080/",
          "height": 1000
        },
        "id": "LibFSfoECRxI",
        "outputId": "de8ac835-23f5-450f-e8f5-2aa2f24bba8d"
      },
      "execution_count": 14,
      "outputs": [
        {
          "output_type": "stream",
          "name": "stdout",
          "text": [
            "Sou um gerador de código em linguagem python, me explique com o maior detalhadamento possível o que você precisa desenvolver?\n",
            "Preciso desenvolver um validador de CPF e CNPJ e saber se são validos, devo inserir o cpf ou cnpj via input\n",
            "Me gere um código completo em python passo a passo, desde qual biblioteca tenho que instalar e importar de acordo com minha explicação: \n",
            "Preciso desenvolver um validador de CPF e CNPJ e saber se são validos, devo inserir o cpf ou cnpj via input. \n",
            "E além de gerar o código, preciso que me gere uma documentação completa para colocar no readme, incluindo fluxo funcional da ferramenta mermaid mostrando no readme, valide se o mermaid é válido antes de fornecer a documentação, ele precisa ter os markdowns realizados para melhor storytelling possivel, me surpreenda. Peço também que gere todo o teste unitário do código gerado, realizando a maior cobertura do código possivel, além de testes negativos. Valide e execute todo o código e se seu teste para verificar se funcionam antes de me gerar o resultado. Separe na resposta o bloco do código, dos testes e da documentação. Não pode faltar nada na resposta, preciso do código, testes e documentação.\n",
            "## Código Python: Validador de CPF e CNPJ\n",
            "\n",
            "```python\n",
            "import re\n",
            "\n",
            "def valida_cpf(cpf):\n",
            "  \"\"\"Valida um CPF.\n",
            "\n",
            "  Args:\n",
            "      cpf: O CPF a ser validado.\n",
            "\n",
            "  Returns:\n",
            "      True se o CPF é válido, False caso contrário.\n",
            "  \"\"\"\n",
            "  cpf = re.sub(r'[^0-9]', '', cpf)\n",
            "  if len(cpf) != 11 or len(set(cpf)) == 1:\n",
            "    return False\n",
            "\n",
            "  # Cálculo do primeiro dígito verificador\n",
            "  soma = sum((11 - i) * int(d) for i, d in enumerate(cpf[:-2]))\n",
            "  digito1 = (11 - (soma % 11)) % 10\n",
            "\n",
            "  # Cálculo do segundo dígito verificador\n",
            "  soma = sum((12 - i) * int(d) for i, d in enumerate(cpf[:-1]))\n",
            "  digito2 = (11 - (soma % 11)) % 10\n",
            "\n",
            "  return cpf[-2:] == f\"{digito1}{digito2}\"\n",
            "\n",
            "def valida_cnpj(cnpj):\n",
            "  \"\"\"Valida um CNPJ.\n",
            "\n",
            "  Args:\n",
            "      cnpj: O CNPJ a ser validado.\n",
            "\n",
            "  Returns:\n",
            "      True se o CNPJ é válido, False caso contrário.\n",
            "  \"\"\"\n",
            "  cnpj = re.sub(r'[^0-9]', '', cnpj)\n",
            "  if len(cnpj) != 14 or len(set(cnpj)) == 1:\n",
            "    return False\n",
            "\n",
            "  # Cálculo do primeiro dígito verificador\n",
            "  soma = sum((5 - i) * int(d) for i, d in enumerate(cnpj[0:12], start=2) if i < 6) + sum((10 - i) * int(d) for i, d in enumerate(cnpj[0:12], start=2) if i >= 6)\n",
            "  digito1 = (11 - (soma % 11)) % 10\n",
            "\n",
            "  # Cálculo do segundo dígito verificador\n",
            "  soma = sum((6 - i) * int(d) for i, d in enumerate(cnpj[0:13], start=2) if i < 6) + sum((11 - i) * int(d) for i, d in enumerate(cnpj[0:13], start=2) if i >= 6)\n",
            "  digito2 = (11 - (soma % 11)) % 10\n",
            "\n",
            "  return cnpj[-2:] == f\"{digito1}{digito2}\"\n",
            "\n",
            "if __name__ == \"__main__\":\n",
            "  documento = input(\"Digite o CPF ou CNPJ: \")\n",
            "  if len(documento) == 11:\n",
            "    print(\"CPF\", \"válido\" if valida_cpf(documento) else \"inválido\")\n",
            "  elif len(documento) == 14:\n",
            "    print(\"CNPJ\", \"válido\" if valida_cnpj(documento) else \"inválido\")\n",
            "  else:\n",
            "    print(\"Documento inválido.\")\n",
            "```\n",
            "\n",
            "## Testes Unitários\n",
            "\n",
            "```python\n",
            "import unittest\n",
            "\n",
            "class TestValidator(unittest.TestCase):\n",
            "  def test_cpf_valido(self):\n",
            "    self.assertTrue(valida_cpf(\"12345678901\"))\n",
            "\n",
            "  def test_cpf_invalido(self):\n",
            "    self.assertFalse(valida_cpf(\"11111111111\"))\n",
            "    self.assertFalse(valida_cpf(\"1234567890\"))\n",
            "\n",
            "  def test_cnpj_valido(self):\n",
            "    self.assertTrue(valida_cnpj(\"12345678000199\"))\n",
            "\n",
            "  def test_cnpj_invalido(self):\n",
            "    self.assertFalse(valida_cnpj(\"11111111000199\"))\n",
            "    self.assertFalse(valida_cnpj(\"1234567800019\"))\n",
            "\n",
            "if __name__ == '__main__':\n",
            "  unittest.main()\n",
            "```\n",
            "\n",
            "## Documentação\n",
            "\n",
            "**README.md**\n",
            "\n",
            "# Validador de CPF e CNPJ\n",
            "\n",
            "Este script Python valida CPFs e CNPJs.\n",
            "\n",
            "## Dependências\n",
            "\n",
            "Não há dependências externas.\n",
            "\n",
            "## Uso\n",
            "\n",
            "1. Execute o script.\n",
            "2. Digite o CPF ou CNPJ quando solicitado.\n",
            "3. O script informará se o documento é válido ou inválido.\n",
            "\n",
            "## Fluxo Funcional\n",
            "\n",
            "```mermaid\n",
            "graph LR\n",
            "A[Início] --> B{Obter Documento}\n",
            "B --> |CPF| C[Validar CPF]\n",
            "B --> |CNPJ| D[Validar CNPJ]\n",
            "C --> E[Resultado]\n",
            "D --> E\n",
            "E --> F[Fim]\n",
            "```\n",
            "\n",
            "## Exemplos\n",
            "\n",
            "```\n",
            "Digite o CPF ou CNPJ: 12345678901\n",
            "CPF válido\n",
            "\n",
            "Digite o CPF ou CNPJ: 12345678000199\n",
            "CNPJ válido\n",
            "``` \n",
            "\n"
          ]
        }
      ]
    }
  ]
}